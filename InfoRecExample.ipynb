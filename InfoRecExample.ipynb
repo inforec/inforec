{
 "cells": [
  {
   "cell_type": "code",
   "execution_count": 1,
   "metadata": {},
   "outputs": [],
   "source": [
    "%load_ext autoreload\n",
    "%autoreload 2"
   ]
  },
  {
   "cell_type": "code",
   "execution_count": 2,
   "metadata": {},
   "outputs": [],
   "source": [
    "import inforec\n",
    "import notebook_utils as nu\n",
    "from model import AbsoluteBuilder, EventBuilder\n",
    "\n",
    "DB_DIR = 'data'"
   ]
  },
  {
   "cell_type": "code",
   "execution_count": null,
   "metadata": {},
   "outputs": [],
   "source": [
    "inforec.InfoRecDB.init(DB_DIR)"
   ]
  },
  {
   "cell_type": "code",
   "execution_count": 3,
   "metadata": {},
   "outputs": [],
   "source": [
    "db = inforec.InfoRecDB.open(DB_DIR)"
   ]
  },
  {
   "cell_type": "code",
   "execution_count": 5,
   "metadata": {},
   "outputs": [
    {
     "data": {
      "text/html": [
       "<div>\n",
       "<style scoped>\n",
       "    .dataframe tbody tr th:only-of-type {\n",
       "        vertical-align: middle;\n",
       "    }\n",
       "\n",
       "    .dataframe tbody tr th {\n",
       "        vertical-align: top;\n",
       "    }\n",
       "\n",
       "    .dataframe thead th {\n",
       "        text-align: right;\n",
       "    }\n",
       "</style>\n",
       "<table border=\"1\" class=\"dataframe\">\n",
       "  <thead>\n",
       "    <tr style=\"text-align: right;\">\n",
       "      <th></th>\n",
       "      <th>ID</th>\n",
       "      <th>Title</th>\n",
       "      <th>Before</th>\n",
       "      <th>After</th>\n",
       "      <th>Same</th>\n",
       "    </tr>\n",
       "  </thead>\n",
       "  <tbody>\n",
       "    <tr>\n",
       "      <th>0</th>\n",
       "      <td>ca3bcf47-c503-4795-ae61-e76d2144b642</td>\n",
       "      <td>title1</td>\n",
       "      <td>None</td>\n",
       "      <td>None</td>\n",
       "      <td>None</td>\n",
       "    </tr>\n",
       "    <tr>\n",
       "      <th>1</th>\n",
       "      <td>495d6e53-04e9-48b3-bccb-67d03f081a28</td>\n",
       "      <td>Title2</td>\n",
       "      <td>None</td>\n",
       "      <td>None</td>\n",
       "      <td>None</td>\n",
       "    </tr>\n",
       "    <tr>\n",
       "      <th>2</th>\n",
       "      <td>209bd96c-74bf-4ff2-87fc-ca97a36558af</td>\n",
       "      <td>title3</td>\n",
       "      <td>[title1]</td>\n",
       "      <td>None</td>\n",
       "      <td>None</td>\n",
       "    </tr>\n",
       "  </tbody>\n",
       "</table>\n",
       "</div>"
      ],
      "text/plain": [
       "                                     ID   Title    Before After  Same\n",
       "0  ca3bcf47-c503-4795-ae61-e76d2144b642  title1      None  None  None\n",
       "1  495d6e53-04e9-48b3-bccb-67d03f081a28  Title2      None  None  None\n",
       "2  209bd96c-74bf-4ff2-87fc-ca97a36558af  title3  [title1]  None  None"
      ]
     },
     "execution_count": 5,
     "metadata": {},
     "output_type": "execute_result"
    }
   ],
   "source": [
    "nu.dump_events(db)"
   ]
  },
  {
   "cell_type": "code",
   "execution_count": 10,
   "metadata": {},
   "outputs": [],
   "source": [
    "e1 = EventBuilder(\"title1\").build()\n",
    "e2 = EventBuilder(\"Title2\").desc(\"description for title2\").build()\n",
    "e3 = EventBuilder(\"title3\").before(e1.id).build()\n",
    "db.add_item(e1)\n",
    "db.add_item(e2)\n",
    "db.add_item(e3)"
   ]
  },
  {
   "cell_type": "code",
   "execution_count": 6,
   "metadata": {},
   "outputs": [],
   "source": [
    "d1 = AbsoluteBuilder().date('2020-03-01').build()\n",
    "e4 = EventBuilder('Event4').same(d1.id).build()\n",
    "db.add_item(d1)\n",
    "db.add_item(e4)"
   ]
  },
  {
   "cell_type": "code",
   "execution_count": 8,
   "metadata": {},
   "outputs": [
    {
     "data": {
      "text/html": [
       "<div>\n",
       "<style scoped>\n",
       "    .dataframe tbody tr th:only-of-type {\n",
       "        vertical-align: middle;\n",
       "    }\n",
       "\n",
       "    .dataframe tbody tr th {\n",
       "        vertical-align: top;\n",
       "    }\n",
       "\n",
       "    .dataframe thead th {\n",
       "        text-align: right;\n",
       "    }\n",
       "</style>\n",
       "<table border=\"1\" class=\"dataframe\">\n",
       "  <thead>\n",
       "    <tr style=\"text-align: right;\">\n",
       "      <th></th>\n",
       "      <th>ID</th>\n",
       "      <th>Title</th>\n",
       "      <th>Before</th>\n",
       "      <th>After</th>\n",
       "      <th>Same</th>\n",
       "    </tr>\n",
       "  </thead>\n",
       "  <tbody>\n",
       "    <tr>\n",
       "      <th>0</th>\n",
       "      <td>ca3bcf47-c503-4795-ae61-e76d2144b642</td>\n",
       "      <td>title1</td>\n",
       "      <td>None</td>\n",
       "      <td>None</td>\n",
       "      <td>None</td>\n",
       "    </tr>\n",
       "    <tr>\n",
       "      <th>1</th>\n",
       "      <td>495d6e53-04e9-48b3-bccb-67d03f081a28</td>\n",
       "      <td>Title2</td>\n",
       "      <td>None</td>\n",
       "      <td>None</td>\n",
       "      <td>None</td>\n",
       "    </tr>\n",
       "    <tr>\n",
       "      <th>2</th>\n",
       "      <td>209bd96c-74bf-4ff2-87fc-ca97a36558af</td>\n",
       "      <td>title3</td>\n",
       "      <td>[title1]</td>\n",
       "      <td>None</td>\n",
       "      <td>None</td>\n",
       "    </tr>\n",
       "    <tr>\n",
       "      <th>3</th>\n",
       "      <td>3e29a3e1-c996-4eb8-be5b-f28e490a8691</td>\n",
       "      <td>Event4</td>\n",
       "      <td>None</td>\n",
       "      <td>None</td>\n",
       "      <td>[2020-03-01]</td>\n",
       "    </tr>\n",
       "  </tbody>\n",
       "</table>\n",
       "</div>"
      ],
      "text/plain": [
       "                                     ID   Title    Before After          Same\n",
       "0  ca3bcf47-c503-4795-ae61-e76d2144b642  title1      None  None          None\n",
       "1  495d6e53-04e9-48b3-bccb-67d03f081a28  Title2      None  None          None\n",
       "2  209bd96c-74bf-4ff2-87fc-ca97a36558af  title3  [title1]  None          None\n",
       "3  3e29a3e1-c996-4eb8-be5b-f28e490a8691  Event4      None  None  [2020-03-01]"
      ]
     },
     "execution_count": 8,
     "metadata": {},
     "output_type": "execute_result"
    }
   ],
   "source": [
    "nu.dump_events(db)"
   ]
  },
  {
   "cell_type": "code",
   "execution_count": 14,
   "metadata": {},
   "outputs": [],
   "source": [
    "db.write()"
   ]
  },
  {
   "cell_type": "code",
   "execution_count": 9,
   "metadata": {},
   "outputs": [
    {
     "data": {
      "text/html": [
       "<div>\n",
       "<style scoped>\n",
       "    .dataframe tbody tr th:only-of-type {\n",
       "        vertical-align: middle;\n",
       "    }\n",
       "\n",
       "    .dataframe tbody tr th {\n",
       "        vertical-align: top;\n",
       "    }\n",
       "\n",
       "    .dataframe thead th {\n",
       "        text-align: right;\n",
       "    }\n",
       "</style>\n",
       "<table border=\"1\" class=\"dataframe\">\n",
       "  <thead>\n",
       "    <tr style=\"text-align: right;\">\n",
       "      <th></th>\n",
       "      <th>ID</th>\n",
       "      <th>Title</th>\n",
       "      <th>Before</th>\n",
       "      <th>After</th>\n",
       "      <th>Same</th>\n",
       "    </tr>\n",
       "  </thead>\n",
       "  <tbody>\n",
       "    <tr>\n",
       "      <th>0</th>\n",
       "      <td>ca3bcf47-c503-4795-ae61-e76d2144b642</td>\n",
       "      <td>title1</td>\n",
       "      <td>None</td>\n",
       "      <td>None</td>\n",
       "      <td>None</td>\n",
       "    </tr>\n",
       "    <tr>\n",
       "      <th>1</th>\n",
       "      <td>495d6e53-04e9-48b3-bccb-67d03f081a28</td>\n",
       "      <td>Title2</td>\n",
       "      <td>None</td>\n",
       "      <td>None</td>\n",
       "      <td>None</td>\n",
       "    </tr>\n",
       "    <tr>\n",
       "      <th>2</th>\n",
       "      <td>209bd96c-74bf-4ff2-87fc-ca97a36558af</td>\n",
       "      <td>title3</td>\n",
       "      <td>[title1]</td>\n",
       "      <td>None</td>\n",
       "      <td>None</td>\n",
       "    </tr>\n",
       "    <tr>\n",
       "      <th>3</th>\n",
       "      <td>3e29a3e1-c996-4eb8-be5b-f28e490a8691</td>\n",
       "      <td>Event4</td>\n",
       "      <td>None</td>\n",
       "      <td>None</td>\n",
       "      <td>[2020-03-01]</td>\n",
       "    </tr>\n",
       "    <tr>\n",
       "      <th>4</th>\n",
       "      <td>de5a5990-27c3-4175-8876-dd26c1bb1b7c</td>\n",
       "      <td>title4</td>\n",
       "      <td>[title3]</td>\n",
       "      <td>[title1]</td>\n",
       "      <td>None</td>\n",
       "    </tr>\n",
       "  </tbody>\n",
       "</table>\n",
       "</div>"
      ],
      "text/plain": [
       "                                     ID   Title    Before     After  \\\n",
       "0  ca3bcf47-c503-4795-ae61-e76d2144b642  title1      None      None   \n",
       "1  495d6e53-04e9-48b3-bccb-67d03f081a28  Title2      None      None   \n",
       "2  209bd96c-74bf-4ff2-87fc-ca97a36558af  title3  [title1]      None   \n",
       "3  3e29a3e1-c996-4eb8-be5b-f28e490a8691  Event4      None      None   \n",
       "4  de5a5990-27c3-4175-8876-dd26c1bb1b7c  title4  [title3]  [title1]   \n",
       "\n",
       "           Same  \n",
       "0          None  \n",
       "1          None  \n",
       "2          None  \n",
       "3  [2020-03-01]  \n",
       "4          None  "
      ]
     },
     "execution_count": 9,
     "metadata": {},
     "output_type": "execute_result"
    }
   ],
   "source": [
    "event = EventBuilder(\"title4\").before('209bd96c-74bf-4ff2-87fc-ca97a36558af').after('ca3bcf47-c503-4795-ae61-e76d2144b642').build()\n",
    "db.add_item(event)\n",
    "nu.dump_events(db)"
   ]
  },
  {
   "cell_type": "code",
   "execution_count": 13,
   "metadata": {},
   "outputs": [
    {
     "data": {
      "text/plain": [
       "[['ca3bcf47-c503-4795-ae61-e76d2144b642',\n",
       "  'de5a5990-27c3-4175-8876-dd26c1bb1b7c',\n",
       "  '209bd96c-74bf-4ff2-87fc-ca97a36558af']]"
      ]
     },
     "execution_count": 13,
     "metadata": {},
     "output_type": "execute_result"
    }
   ],
   "source": [
    "db.has_no_conflict() or db.conflicts() or [[ db.get_event(eid).title for eid in lst ] for lst in db.conflicts()]"
   ]
  },
  {
   "cell_type": "code",
   "execution_count": 15,
   "metadata": {},
   "outputs": [
    {
     "name": "stdout",
     "output_type": "stream",
     "text": [
      "> \u001b[0;32m/home/ryey/coding/inforec/storage.py\u001b[0m(102)\u001b[0;36mget_event\u001b[0;34m()\u001b[0m\n",
      "\u001b[0;32m    100 \u001b[0;31m        \u001b[0mitem\u001b[0m \u001b[0;34m=\u001b[0m \u001b[0mself\u001b[0m\u001b[0;34m.\u001b[0m\u001b[0mget_item\u001b[0m\u001b[0;34m(\u001b[0m\u001b[0mid\u001b[0m\u001b[0;34m)\u001b[0m\u001b[0;34m\u001b[0m\u001b[0;34m\u001b[0m\u001b[0m\n",
      "\u001b[0m\u001b[0;32m    101 \u001b[0;31m        \u001b[0;32mif\u001b[0m \u001b[0;32mnot\u001b[0m \u001b[0misinstance\u001b[0m\u001b[0;34m(\u001b[0m\u001b[0mitem\u001b[0m\u001b[0;34m,\u001b[0m \u001b[0mEvent\u001b[0m\u001b[0;34m)\u001b[0m\u001b[0;34m:\u001b[0m\u001b[0;34m\u001b[0m\u001b[0;34m\u001b[0m\u001b[0m\n",
      "\u001b[0m\u001b[0;32m--> 102 \u001b[0;31m            \u001b[0;32mraise\u001b[0m \u001b[0mRuntimeError\u001b[0m\u001b[0;34m(\u001b[0m\u001b[0;34m\"The requested item {} is not an Event, but a {}\"\u001b[0m\u001b[0;34m.\u001b[0m\u001b[0mformat\u001b[0m\u001b[0;34m(\u001b[0m\u001b[0mid\u001b[0m\u001b[0;34m,\u001b[0m \u001b[0mtype\u001b[0m\u001b[0;34m(\u001b[0m\u001b[0mitem\u001b[0m\u001b[0;34m)\u001b[0m\u001b[0;34m)\u001b[0m\u001b[0;34m)\u001b[0m\u001b[0;34m\u001b[0m\u001b[0;34m\u001b[0m\u001b[0m\n",
      "\u001b[0m\u001b[0;32m    103 \u001b[0;31m        \u001b[0;32mreturn\u001b[0m \u001b[0mitem\u001b[0m\u001b[0;34m\u001b[0m\u001b[0;34m\u001b[0m\u001b[0m\n",
      "\u001b[0m\u001b[0;32m    104 \u001b[0;31m\u001b[0;34m\u001b[0m\u001b[0m\n",
      "\u001b[0m\n",
      "ipdb> exit\n"
     ]
    }
   ],
   "source": [
    "%debug"
   ]
  }
 ],
 "metadata": {
  "kernelspec": {
   "display_name": "Python 3",
   "language": "python",
   "name": "python3"
  },
  "language_info": {
   "codemirror_mode": {
    "name": "ipython",
    "version": 3
   },
   "file_extension": ".py",
   "mimetype": "text/x-python",
   "name": "python",
   "nbconvert_exporter": "python",
   "pygments_lexer": "ipython3",
   "version": "3.9.3"
  }
 },
 "nbformat": 4,
 "nbformat_minor": 4
}
