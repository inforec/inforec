{
 "cells": [
  {
   "cell_type": "code",
   "execution_count": 1,
   "metadata": {},
   "outputs": [],
   "source": [
    "%load_ext autoreload\n",
    "%autoreload 2"
   ]
  },
  {
   "cell_type": "code",
   "execution_count": 2,
   "metadata": {},
   "outputs": [],
   "source": [
    "import inforec\n",
    "import notebook_utils as nu\n",
    "from model import AbsoluteBuilder, EventBuilder\n",
    "\n",
    "DB_DIR = 'data'"
   ]
  },
  {
   "cell_type": "code",
   "execution_count": null,
   "metadata": {},
   "outputs": [],
   "source": [
    "# Optionally explicitly initialize the database. Will be automatically called throuth the App entry.\n",
    "#inforec.InfoRecDB.init(DB_DIR)"
   ]
  },
  {
   "cell_type": "code",
   "execution_count": 3,
   "metadata": {},
   "outputs": [],
   "source": [
    "app = inforec.App(DB_DIR)\n",
    "collection = app.collection()"
   ]
  },
  {
   "cell_type": "code",
   "execution_count": 4,
   "metadata": {},
   "outputs": [],
   "source": [
    "e1 = EventBuilder(\"title1\").build()\n",
    "e2 = EventBuilder(\"Title2\").desc(\"description for title2\").build()\n",
    "e3 = EventBuilder(\"title3\").before(e1.id).build()\n",
    "collection.add_item(e1)\n",
    "collection.add_item(e2)\n",
    "collection.add_item(e3)"
   ]
  },
  {
   "cell_type": "code",
   "execution_count": 5,
   "metadata": {},
   "outputs": [
    {
     "data": {
      "text/html": [
       "<div>\n",
       "<style scoped>\n",
       "    .dataframe tbody tr th:only-of-type {\n",
       "        vertical-align: middle;\n",
       "    }\n",
       "\n",
       "    .dataframe tbody tr th {\n",
       "        vertical-align: top;\n",
       "    }\n",
       "\n",
       "    .dataframe thead th {\n",
       "        text-align: right;\n",
       "    }\n",
       "</style>\n",
       "<table border=\"1\" class=\"dataframe\">\n",
       "  <thead>\n",
       "    <tr style=\"text-align: right;\">\n",
       "      <th></th>\n",
       "      <th>ID</th>\n",
       "      <th>Title</th>\n",
       "      <th>Before</th>\n",
       "      <th>After</th>\n",
       "      <th>Same</th>\n",
       "    </tr>\n",
       "  </thead>\n",
       "  <tbody>\n",
       "    <tr>\n",
       "      <th>0</th>\n",
       "      <td>f6647c5d-5f9b-46e3-a97e-f1fd7a82c372</td>\n",
       "      <td>title1</td>\n",
       "      <td>None</td>\n",
       "      <td>None</td>\n",
       "      <td>None</td>\n",
       "    </tr>\n",
       "    <tr>\n",
       "      <th>1</th>\n",
       "      <td>484e1a15-5099-4fe4-bc28-07fa9ff27a81</td>\n",
       "      <td>Title2</td>\n",
       "      <td>None</td>\n",
       "      <td>None</td>\n",
       "      <td>None</td>\n",
       "    </tr>\n",
       "    <tr>\n",
       "      <th>2</th>\n",
       "      <td>dae784b5-4319-4d26-bb57-a05c20d7ae91</td>\n",
       "      <td>title3</td>\n",
       "      <td>[title1]</td>\n",
       "      <td>None</td>\n",
       "      <td>None</td>\n",
       "    </tr>\n",
       "  </tbody>\n",
       "</table>\n",
       "</div>"
      ],
      "text/plain": [
       "                                     ID   Title    Before After  Same\n",
       "0  f6647c5d-5f9b-46e3-a97e-f1fd7a82c372  title1      None  None  None\n",
       "1  484e1a15-5099-4fe4-bc28-07fa9ff27a81  Title2      None  None  None\n",
       "2  dae784b5-4319-4d26-bb57-a05c20d7ae91  title3  [title1]  None  None"
      ]
     },
     "execution_count": 5,
     "metadata": {},
     "output_type": "execute_result"
    }
   ],
   "source": [
    "nu.dump_events(collection)"
   ]
  },
  {
   "cell_type": "code",
   "execution_count": 6,
   "metadata": {},
   "outputs": [],
   "source": [
    "d1 = AbsoluteBuilder().date('2020-03-01').build()\n",
    "e4 = EventBuilder('Event4').same(d1.id).build()\n",
    "collection.add_item(d1)\n",
    "collection.add_item(e4)"
   ]
  },
  {
   "cell_type": "code",
   "execution_count": 7,
   "metadata": {},
   "outputs": [
    {
     "data": {
      "text/html": [
       "<div>\n",
       "<style scoped>\n",
       "    .dataframe tbody tr th:only-of-type {\n",
       "        vertical-align: middle;\n",
       "    }\n",
       "\n",
       "    .dataframe tbody tr th {\n",
       "        vertical-align: top;\n",
       "    }\n",
       "\n",
       "    .dataframe thead th {\n",
       "        text-align: right;\n",
       "    }\n",
       "</style>\n",
       "<table border=\"1\" class=\"dataframe\">\n",
       "  <thead>\n",
       "    <tr style=\"text-align: right;\">\n",
       "      <th></th>\n",
       "      <th>ID</th>\n",
       "      <th>Title</th>\n",
       "      <th>Before</th>\n",
       "      <th>After</th>\n",
       "      <th>Same</th>\n",
       "    </tr>\n",
       "  </thead>\n",
       "  <tbody>\n",
       "    <tr>\n",
       "      <th>0</th>\n",
       "      <td>f6647c5d-5f9b-46e3-a97e-f1fd7a82c372</td>\n",
       "      <td>title1</td>\n",
       "      <td>None</td>\n",
       "      <td>None</td>\n",
       "      <td>None</td>\n",
       "    </tr>\n",
       "    <tr>\n",
       "      <th>1</th>\n",
       "      <td>484e1a15-5099-4fe4-bc28-07fa9ff27a81</td>\n",
       "      <td>Title2</td>\n",
       "      <td>None</td>\n",
       "      <td>None</td>\n",
       "      <td>None</td>\n",
       "    </tr>\n",
       "    <tr>\n",
       "      <th>2</th>\n",
       "      <td>dae784b5-4319-4d26-bb57-a05c20d7ae91</td>\n",
       "      <td>title3</td>\n",
       "      <td>[title1]</td>\n",
       "      <td>None</td>\n",
       "      <td>None</td>\n",
       "    </tr>\n",
       "    <tr>\n",
       "      <th>3</th>\n",
       "      <td>9bb0c8a8-0681-4b4b-befd-8133a97fa394</td>\n",
       "      <td>Event4</td>\n",
       "      <td>None</td>\n",
       "      <td>None</td>\n",
       "      <td>[2020-03-01]</td>\n",
       "    </tr>\n",
       "  </tbody>\n",
       "</table>\n",
       "</div>"
      ],
      "text/plain": [
       "                                     ID   Title    Before After          Same\n",
       "0  f6647c5d-5f9b-46e3-a97e-f1fd7a82c372  title1      None  None          None\n",
       "1  484e1a15-5099-4fe4-bc28-07fa9ff27a81  Title2      None  None          None\n",
       "2  dae784b5-4319-4d26-bb57-a05c20d7ae91  title3  [title1]  None          None\n",
       "3  9bb0c8a8-0681-4b4b-befd-8133a97fa394  Event4      None  None  [2020-03-01]"
      ]
     },
     "execution_count": 7,
     "metadata": {},
     "output_type": "execute_result"
    }
   ],
   "source": [
    "nu.dump_events(collection)"
   ]
  },
  {
   "cell_type": "code",
   "execution_count": 8,
   "metadata": {},
   "outputs": [],
   "source": [
    "app.flush()"
   ]
  },
  {
   "cell_type": "code",
   "execution_count": 8,
   "metadata": {},
   "outputs": [
    {
     "data": {
      "text/html": [
       "<div>\n",
       "<style scoped>\n",
       "    .dataframe tbody tr th:only-of-type {\n",
       "        vertical-align: middle;\n",
       "    }\n",
       "\n",
       "    .dataframe tbody tr th {\n",
       "        vertical-align: top;\n",
       "    }\n",
       "\n",
       "    .dataframe thead th {\n",
       "        text-align: right;\n",
       "    }\n",
       "</style>\n",
       "<table border=\"1\" class=\"dataframe\">\n",
       "  <thead>\n",
       "    <tr style=\"text-align: right;\">\n",
       "      <th></th>\n",
       "      <th>ID</th>\n",
       "      <th>Title</th>\n",
       "      <th>Before</th>\n",
       "      <th>After</th>\n",
       "      <th>Same</th>\n",
       "    </tr>\n",
       "  </thead>\n",
       "  <tbody>\n",
       "    <tr>\n",
       "      <th>0</th>\n",
       "      <td>f6647c5d-5f9b-46e3-a97e-f1fd7a82c372</td>\n",
       "      <td>title1</td>\n",
       "      <td>None</td>\n",
       "      <td>None</td>\n",
       "      <td>None</td>\n",
       "    </tr>\n",
       "    <tr>\n",
       "      <th>1</th>\n",
       "      <td>484e1a15-5099-4fe4-bc28-07fa9ff27a81</td>\n",
       "      <td>Title2</td>\n",
       "      <td>None</td>\n",
       "      <td>None</td>\n",
       "      <td>None</td>\n",
       "    </tr>\n",
       "    <tr>\n",
       "      <th>2</th>\n",
       "      <td>dae784b5-4319-4d26-bb57-a05c20d7ae91</td>\n",
       "      <td>title3</td>\n",
       "      <td>[title1]</td>\n",
       "      <td>None</td>\n",
       "      <td>None</td>\n",
       "    </tr>\n",
       "    <tr>\n",
       "      <th>3</th>\n",
       "      <td>9bb0c8a8-0681-4b4b-befd-8133a97fa394</td>\n",
       "      <td>Event4</td>\n",
       "      <td>None</td>\n",
       "      <td>None</td>\n",
       "      <td>[2020-03-01]</td>\n",
       "    </tr>\n",
       "    <tr>\n",
       "      <th>4</th>\n",
       "      <td>4b3dd079-f448-4e5a-b603-4b80757046bb</td>\n",
       "      <td>title4</td>\n",
       "      <td>[title3]</td>\n",
       "      <td>[title1]</td>\n",
       "      <td>None</td>\n",
       "    </tr>\n",
       "  </tbody>\n",
       "</table>\n",
       "</div>"
      ],
      "text/plain": [
       "                                     ID   Title    Before     After  \\\n",
       "0  f6647c5d-5f9b-46e3-a97e-f1fd7a82c372  title1      None      None   \n",
       "1  484e1a15-5099-4fe4-bc28-07fa9ff27a81  Title2      None      None   \n",
       "2  dae784b5-4319-4d26-bb57-a05c20d7ae91  title3  [title1]      None   \n",
       "3  9bb0c8a8-0681-4b4b-befd-8133a97fa394  Event4      None      None   \n",
       "4  4b3dd079-f448-4e5a-b603-4b80757046bb  title4  [title3]  [title1]   \n",
       "\n",
       "           Same  \n",
       "0          None  \n",
       "1          None  \n",
       "2          None  \n",
       "3  [2020-03-01]  \n",
       "4          None  "
      ]
     },
     "execution_count": 8,
     "metadata": {},
     "output_type": "execute_result"
    }
   ],
   "source": [
    "event = EventBuilder(\"title4\").before(e3.id).after(e1.id).build()\n",
    "collection.add_item(event)\n",
    "nu.dump_events(collection)"
   ]
  },
  {
   "cell_type": "code",
   "execution_count": 9,
   "metadata": {},
   "outputs": [
    {
     "data": {
      "text/plain": [
       "[['f6647c5d-5f9b-46e3-a97e-f1fd7a82c372',\n",
       "  '4b3dd079-f448-4e5a-b603-4b80757046bb',\n",
       "  'dae784b5-4319-4d26-bb57-a05c20d7ae91']]"
      ]
     },
     "execution_count": 9,
     "metadata": {},
     "output_type": "execute_result"
    }
   ],
   "source": [
    "collection.has_no_conflict() or collection.conflicts() or [[ collection.get_event(eid).title for eid in lst ] for lst in collection.conflicts()]"
   ]
  },
  {
   "cell_type": "code",
   "execution_count": 11,
   "metadata": {},
   "outputs": [
    {
     "name": "stdout",
     "output_type": "stream",
     "text": [
      "> \u001b[0;32m/home/ryey/coding/inforec/storage.py\u001b[0m(275)\u001b[0;36mcollection\u001b[0;34m()\u001b[0m\n",
      "\u001b[0;32m    273 \u001b[0;31m\u001b[0;34m\u001b[0m\u001b[0m\n",
      "\u001b[0m\u001b[0;32m    274 \u001b[0;31m    \u001b[0;32mdef\u001b[0m \u001b[0mcollection\u001b[0m\u001b[0;34m(\u001b[0m\u001b[0mself\u001b[0m\u001b[0;34m)\u001b[0m\u001b[0;34m:\u001b[0m\u001b[0;34m\u001b[0m\u001b[0;34m\u001b[0m\u001b[0m\n",
      "\u001b[0m\u001b[0;32m--> 275 \u001b[0;31m        \u001b[0;32mreturn\u001b[0m \u001b[0mself\u001b[0m\u001b[0;34m.\u001b[0m\u001b[0mdb\u001b[0m\u001b[0;34m.\u001b[0m\u001b[0mcollection\u001b[0m\u001b[0;34m\u001b[0m\u001b[0;34m\u001b[0m\u001b[0m\n",
      "\u001b[0m\u001b[0;32m    276 \u001b[0;31m\u001b[0;34m\u001b[0m\u001b[0m\n",
      "\u001b[0m\u001b[0;32m    277 \u001b[0;31m    \u001b[0;32mdef\u001b[0m \u001b[0mflush\u001b[0m\u001b[0;34m(\u001b[0m\u001b[0mself\u001b[0m\u001b[0;34m)\u001b[0m\u001b[0;34m:\u001b[0m\u001b[0;34m\u001b[0m\u001b[0;34m\u001b[0m\u001b[0m\n",
      "\u001b[0m\n",
      "ipdb> exit\n"
     ]
    }
   ],
   "source": [
    "%debug"
   ]
  }
 ],
 "metadata": {
  "kernelspec": {
   "display_name": "Python 3",
   "language": "python",
   "name": "python3"
  },
  "language_info": {
   "codemirror_mode": {
    "name": "ipython",
    "version": 3
   },
   "file_extension": ".py",
   "mimetype": "text/x-python",
   "name": "python",
   "nbconvert_exporter": "python",
   "pygments_lexer": "ipython3",
   "version": "3.9.5"
  }
 },
 "nbformat": 4,
 "nbformat_minor": 4
}
